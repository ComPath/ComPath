{
 "cells": [
  {
   "cell_type": "markdown",
   "metadata": {},
   "source": [
    "# Pathway similarity network\n",
    "\n",
    "#### This notebooks generate the file adapted to [Cytoscape](http://www.cytoscape.org/)  to plot the pathway similarity network\n",
    "\n",
    "Author: [Daniel Domingo-Fernández](https://github.com/ddomingof) \n",
    "\n"
   ]
  },
  {
   "cell_type": "code",
   "execution_count": 1,
   "metadata": {
    "collapsed": true
   },
   "outputs": [],
   "source": [
    "import time\n",
    "import sys\n",
    "import os\n",
    "\n",
    "import networkx as nx\n",
    "import pandas as pd\n",
    "from collections import defaultdict\n",
    "import itertools as itt\n",
    "import json\n",
    "\n",
    "from bio2bel_kegg.manager import Manager as KeggManager\n",
    "from bio2bel_reactome.manager import Manager as ReactomeManager\n",
    "from bio2bel_wikipathways.manager import Manager as WikiPathwaysManager\n"
   ]
  },
  {
   "cell_type": "code",
   "execution_count": 2,
   "metadata": {},
   "outputs": [
    {
     "data": {
      "text/plain": [
       "'Mon Feb 26 09:08:57 2018'"
      ]
     },
     "execution_count": 2,
     "metadata": {},
     "output_type": "execute_result"
    }
   ],
   "source": [
    "time.asctime()"
   ]
  },
  {
   "cell_type": "code",
   "execution_count": 3,
   "metadata": {},
   "outputs": [
    {
     "name": "stdout",
     "output_type": "stream",
     "text": [
      "3.4.5 (default, Dec 11 2017, 14:22:24) \n",
      "[GCC 4.8.5 20150623 (Red Hat 4.8.5-16)]\n"
     ]
    }
   ],
   "source": [
    "print(sys.version)"
   ]
  },
  {
   "cell_type": "code",
   "execution_count": 4,
   "metadata": {
    "collapsed": true
   },
   "outputs": [],
   "source": [
    "#Location of the cloned repo\n",
    "BASE_PATH = os.environ['COMPATH']\n",
    "EXCELS_PATH = os.path.join(BASE_PATH,'src','compath','static','resources','excel')\n"
   ]
  },
  {
   "cell_type": "code",
   "execution_count": 5,
   "metadata": {
    "collapsed": true
   },
   "outputs": [],
   "source": [
    "kegg_excel = os.path.join(EXCELS_PATH,'kegg_gene_sets.csv')\n",
    "reactome_excel= os.path.join(EXCELS_PATH,'reactome_gene_sets.csv')\n",
    "wikipathways_excel = os.path.join(EXCELS_PATH,'wikipathways_gene_sets.csv')"
   ]
  },
  {
   "cell_type": "code",
   "execution_count": 6,
   "metadata": {
    "collapsed": true
   },
   "outputs": [],
   "source": [
    "def create_pathway_gene_set_dict(dataframe):\n",
    "    \"\"\"Creates a pathway genes dictionary\n",
    "    \n",
    "    :param pandas.DataFrame dataset: gene sets df\n",
    "    :rtype: collections.defaultdict\n",
    "    :returns: dictionary of pathway gene sets\n",
    "    \"\"\"\n",
    "    \n",
    "    pathway_dictionary = defaultdict(set)\n",
    "    \n",
    "    for pathway_name in dataframe: # iterate over columns in dataframe\n",
    "\n",
    "        for gene in dataframe[pathway_name].unique():\n",
    "            if not isinstance(gene, str): # There are NaN in the Pandas nArray\n",
    "                continue\n",
    "\n",
    "            pathway_dictionary[pathway_name].add(gene)\n",
    "            \n",
    "    return pathway_dictionary"
   ]
  },
  {
   "cell_type": "markdown",
   "metadata": {},
   "source": [
    "Load KEGG"
   ]
  },
  {
   "cell_type": "code",
   "execution_count": 7,
   "metadata": {},
   "outputs": [
    {
     "name": "stdout",
     "output_type": "stream",
     "text": [
      "KEGG Database contains 324 pathways\n"
     ]
    }
   ],
   "source": [
    "kegg_dataframe = pd.read_csv(kegg_excel, dtype=object)\n",
    "\n",
    "# Remove the 'Homo sapiens' out of the KEGG pathways\n",
    "kegg_dataframe.columns = [\n",
    "    kegg_pathway.replace(' - Homo sapiens (human)', '')\n",
    "    for kegg_pathway in kegg_dataframe\n",
    "] \n",
    "\n",
    "kegg_pathways = create_pathway_gene_set_dict(kegg_dataframe)\n",
    "\n",
    "kegg_manager = KeggManager()\n",
    "\n",
    "kegg_names_to_ids = kegg_manager.get_pathway_names_to_ids()\n",
    "\n",
    "try:\n",
    "    assert (len(kegg_names_to_ids.keys()) == 323)\n",
    "except AssertionError as error:\n",
    "    print('KEGG Database contains {} pathways'.format(len(kegg_names_to_ids.keys())))\n",
    "    \n",
    "try:\n",
    "    assert (len(kegg_pathways.keys()) == 323)\n",
    "except AssertionError as error:\n",
    "    print('DataFrame does not contain 323 pathways, contains: {}'.format(len(kegg_pathways.keys())))"
   ]
  },
  {
   "cell_type": "markdown",
   "metadata": {},
   "source": [
    "Load Reactome"
   ]
  },
  {
   "cell_type": "code",
   "execution_count": 8,
   "metadata": {
    "collapsed": true
   },
   "outputs": [],
   "source": [
    "reactome_dataframe = pd.read_csv(reactome_excel, dtype=object)\n",
    "\n",
    "reactome_pathways = create_pathway_gene_set_dict(reactome_dataframe)\n",
    "\n",
    "reactome_manager = ReactomeManager()\n",
    "\n",
    "reactome_names_to_ids = reactome_manager.get_pathway_names_to_ids()\n",
    "\n",
    "try:\n",
    "    assert (len(reactome_names_to_ids.keys()) == 2162)\n",
    "except AssertionError as error:\n",
    "    print('Reactome Database contains {} pathways'.format(len(reactome_names_to_ids.keys()))) # Total of 2662 of those: 2132 are not empty\n",
    "    \n",
    "try:\n",
    "    assert (len(reactome_pathways.keys()) == 2132)\n",
    "except AssertionError as error:\n",
    "    print('DataFrame does not contain 2132 pathways, contains: {}'.format(len(reactome_pathways.keys())))\n"
   ]
  },
  {
   "cell_type": "markdown",
   "metadata": {},
   "source": [
    "Load WikiPathways"
   ]
  },
  {
   "cell_type": "code",
   "execution_count": 13,
   "metadata": {
    "collapsed": true
   },
   "outputs": [],
   "source": [
    "wikipathways_dataframe = pd.read_csv(wikipathways_excel, dtype=object)\n",
    "\n",
    "wikipathways_pathways = create_pathway_gene_set_dict(wikipathways_dataframe)\n",
    "\n",
    "wikipathways_manager = WikiPathwaysManager()\n",
    "\n",
    "wikipathways_names_to_ids = wikipathways_manager.get_pathway_names_to_ids()\n",
    "\n",
    "try:\n",
    "    assert (len(wikipathways_names_to_ids.keys()) == 417)\n",
    "except AssertionError as error:\n",
    "    print('WikiPathways Database contains {} pathways'.format(len(wikipathways_names_to_ids.keys())))\n",
    "    \n",
    "try:\n",
    "    assert (len(wikipathways_pathways.keys()) == 408)\n",
    "except AssertionError as error:\n",
    "    print('DataFrame does not contain 408 pathways, contains: {}'.format(len(wikipathways_pathways.keys())))"
   ]
  },
  {
   "cell_type": "markdown",
   "metadata": {},
   "source": [
    "Create network"
   ]
  },
  {
   "cell_type": "code",
   "execution_count": 17,
   "metadata": {},
   "outputs": [],
   "source": [
    "KEGG = 'kegg'\n",
    "REACTOME = 'reactome'\n",
    "WIKIPATHWAYS = 'wikipathways'\n",
    "\n",
    "KEGG_URL = 'http://www.kegg.jp/kegg-bin/show_pathway?map=map{}&show_description=show'\n",
    "REACTOME_URL = 'https://reactome.org/PathwayBrowser/#/{}'\n",
    "WIKIPATHWAYS_URL = 'https://www.wikipathways.org/index.php/Pathway:{}'\n",
    "\n",
    "\n",
    "def export_cytoscape_js(graph):\n",
    "    \"\"\"Convert networkx to Cytoscape.js JSON format\n",
    "    \n",
    "    :param: networkx.Graph graph: graph\n",
    "    :rtype: dict\n",
    "    :return: dictionary representing the json object in cytoscape js\n",
    "    \"\"\"    \n",
    "    network_dict = defaultdict(list)\n",
    "    \n",
    "    info_to_id = {} # linking pathway info tuple to identifier\n",
    "    \n",
    "    for node_id, node in enumerate(graph.nodes()):\n",
    "        \n",
    "        info_to_id[node] = node_id\n",
    "        \n",
    "        node_object = {}\n",
    "        node_object[\"data\"] = {}\n",
    "        node_object[\"data\"][\"id\"] = node_id\n",
    "        node_object[\"data\"][\"name\"] = node[0]\n",
    "        node_object[\"data\"][\"resource\"] = node[1]\n",
    "        \n",
    "        \n",
    "        if node[1] == REACTOME:\n",
    "            node_object[\"data\"][\"url\"] = REACTOME_URL.format(reactome_names_to_ids[node[0]])\n",
    "            \n",
    "        elif node[1] == KEGG:\n",
    "            node_object[\"data\"][\"url\"] = KEGG_URL.format(kegg_names_to_ids[node[0]])\n",
    "\n",
    "        elif node[1] == WIKIPATHWAYS:\n",
    "            node_object[\"data\"][\"url\"] = WIKIPATHWAYS_URL.format(wikipathways_names_to_ids[node[0]])\n",
    "            \n",
    "        else:\n",
    "            print('Error with {}. Check the resource assignment. Make sure all pathway databases are populated'.format(node))\n",
    "            break        \n",
    "        \n",
    "        # TODO: Add link identifier reactome/kegg/wikipathways\n",
    "        network_dict[\"nodes\"].append(node_object.copy())\n",
    "        \n",
    "\n",
    "    for source, target, data in graph.edges(data=True):\n",
    "        \n",
    "        nx = {}\n",
    "        nx[\"data\"]={}\n",
    "        nx[\"data\"][\"source\"]=info_to_id[source]\n",
    "        nx[\"data\"][\"target\"]=info_to_id[target]\n",
    "        nx[\"data\"][\"similarity\"]=data['similarity']\n",
    "        \n",
    "        network_dict[\"edges\"].append(nx)\n",
    "        \n",
    "    return network_dict\n",
    "\n",
    "\n",
    "def populate_similarity_network(graph, threshold, pathway_resource_1, gene_sets_1, pathway_resource_2, gene_sets_2):\n",
    "    \"\"\"Populates the similarity pathway network in place given two gene sets a threshold\n",
    "    \n",
    "    :param networkx.Graph graph: similarity pathway network\n",
    "    :param float threshold: percentage of the minimum threshold to add the link to the network (e.g., 0.75 means 75% similarity)\n",
    "    :param str pathway_resource_1: name of the resource 1\n",
    "    :param dict gene_sets_1: pathway gene set dict 2\n",
    "    :param str pathway_resource_2: name of the resource 2\n",
    "    :param dict gene_sets_2: pathway gene set dict 2\n",
    "    \"\"\"\n",
    "    \n",
    "    for pathway_1, pathway_2 in itt.product(gene_sets_1.keys(), gene_sets_2.keys()):\n",
    "        \n",
    "        if (pathway_1,pathway_resource_1) == (pathway_2,pathway_resource_2):\n",
    "            continue\n",
    "\n",
    "        intersection = len(gene_sets_1[pathway_1].intersection(gene_sets_2[pathway_2]))\n",
    "        smaller_set = min(len(gene_sets_1[pathway_1]), len(gene_sets_2[pathway_2]))\n",
    "\n",
    "        similarity = float(intersection/smaller_set) # Formula to calculate similarity\n",
    "\n",
    "        if similarity < threshold: \n",
    "            continue\n",
    "        \n",
    "        graph.add_edge((pathway_1,pathway_resource_1),(pathway_2,pathway_resource_2), similarity=similarity)\n",
    "        \n",
    "        \n",
    "    return graph\n",
    "\n"
   ]
  },
  {
   "cell_type": "code",
   "execution_count": 21,
   "metadata": {},
   "outputs": [
    {
     "name": "stdout",
     "output_type": "stream",
     "text": [
      "#######################\n",
      "0.1\n",
      "#######################\n",
      "#######################\n",
      "0.2\n",
      "#######################\n",
      "#######################\n",
      "0.3\n",
      "#######################\n",
      "#######################\n",
      "0.4\n",
      "#######################\n",
      "#######################\n",
      "0.5\n",
      "#######################\n",
      "#######################\n",
      "0.6\n",
      "#######################\n",
      "#######################\n",
      "0.7\n",
      "#######################\n",
      "#######################\n",
      "0.8\n",
      "#######################\n",
      "#######################\n",
      "0.9\n",
      "#######################\n",
      "#######################\n",
      "1.0\n",
      "#######################\n"
     ]
    }
   ],
   "source": [
    "for i in range(1,11):\n",
    "    \n",
    "    pathway_similarity_network = nx.Graph()\n",
    "    \n",
    "    threshold = i/10\n",
    "    \n",
    "    print(\"#######################\")\n",
    "    print(threshold)\n",
    "    print(\"#######################\")\n",
    "\n",
    "#     # Populate KEGG vs KEGG\n",
    "#     pathway_similarity_network = populate_similarity_network(\n",
    "#         pathway_similarity_network, \n",
    "#         threshold,\n",
    "#         KEGG, kegg_pathways,\n",
    "#         KEGG, kegg_pathways\n",
    "#     )\n",
    "\n",
    "    # Populate Reactome vs Reactome\n",
    "    pathway_similarity_network = populate_similarity_network(\n",
    "        pathway_similarity_network, \n",
    "        threshold,\n",
    "        REACTOME, reactome_pathways,\n",
    "        REACTOME, reactome_pathways\n",
    "    )\n",
    "\n",
    "#     # Populate WikiPathways vs WikiPathways\n",
    "#     pathway_similarity_network = populate_similarity_network(\n",
    "#         pathway_similarity_network, \n",
    "#         threshold,\n",
    "#         WIKIPATHWAYS, wikipathways_pathways,\n",
    "#         WIKIPATHWAYS, wikipathways_pathways\n",
    "#     )\n",
    "\n",
    "# # Populate Reactome vs KEGG\n",
    "# pathway_similarity_network = populate_similarity_network(\n",
    "#     pathway_similarity_network, \n",
    "#     threshold,\n",
    "#     KEGG, kegg_pathways,\n",
    "#     REACTOME, reactome_pathways\n",
    "# )\n",
    "\n",
    "# # Populate KEGG vs WikiPathways\n",
    "# pathway_similarity_network = populate_similarity_network(\n",
    "#     pathway_similarity_network, \n",
    "#     threshold,\n",
    "#     KEGG, kegg_pathways,\n",
    "#     WIKIPATHWAYS, wikipathways_pathways\n",
    "# )\n",
    "\n",
    "# # Populate Reactome vs WikiPathways\n",
    "# pathway_similarity_network = populate_similarity_network(\n",
    "#     pathway_similarity_network, \n",
    "#     threshold,\n",
    "#     KEGG, kegg_pathways,\n",
    "#     WIKIPATHWAYS, wikipathways_pathways\n",
    "# )\n",
    "\n",
    "    json_data = export_cytoscape_js(pathway_similarity_network)\n",
    "\n",
    "    with open(REACTOME +'_{}'.format(i)+'0.json', 'w') as outfile:  \n",
    "        json.dump(json_data, outfile)\n"
   ]
  },
  {
   "cell_type": "code",
   "execution_count": null,
   "metadata": {
    "collapsed": true
   },
   "outputs": [],
   "source": [
    "# print(json.dumps(json_data, indent=2))"
   ]
  },
  {
   "cell_type": "code",
   "execution_count": null,
   "metadata": {
    "collapsed": true
   },
   "outputs": [],
   "source": []
  },
  {
   "cell_type": "code",
   "execution_count": null,
   "metadata": {
    "collapsed": true
   },
   "outputs": [],
   "source": []
  },
  {
   "cell_type": "code",
   "execution_count": null,
   "metadata": {
    "collapsed": true
   },
   "outputs": [],
   "source": []
  },
  {
   "cell_type": "code",
   "execution_count": null,
   "metadata": {
    "collapsed": true
   },
   "outputs": [],
   "source": []
  },
  {
   "cell_type": "code",
   "execution_count": null,
   "metadata": {
    "collapsed": true
   },
   "outputs": [],
   "source": []
  },
  {
   "cell_type": "code",
   "execution_count": null,
   "metadata": {
    "collapsed": true
   },
   "outputs": [],
   "source": []
  }
 ],
 "metadata": {
  "kernelspec": {
   "display_name": "Python 3",
   "language": "python",
   "name": "python3"
  },
  "language_info": {
   "codemirror_mode": {
    "name": "ipython",
    "version": 3
   },
   "file_extension": ".py",
   "mimetype": "text/x-python",
   "name": "python",
   "nbconvert_exporter": "python",
   "pygments_lexer": "ipython3",
   "version": "3.4.5"
  }
 },
 "nbformat": 4,
 "nbformat_minor": 2
}

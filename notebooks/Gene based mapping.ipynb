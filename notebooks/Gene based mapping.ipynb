{
 "cells": [
  {
   "cell_type": "markdown",
   "metadata": {},
   "source": [
    "# ComPath -  Gene based comparison\n",
    "\n",
    "\n",
    "##### Author: Daniel Domingo-Fernandez\n",
    "\n",
    "The goal of this notebook is to calculate the overlap between KEGG and Reactome pathways based on the similarity gene sets (statistics: hypergeometric test)."
   ]
  },
  {
   "cell_type": "markdown",
   "metadata": {},
   "source": [
    "### Notebook imports"
   ]
  },
  {
   "cell_type": "code",
   "execution_count": 4,
   "metadata": {
    "collapsed": true
   },
   "outputs": [],
   "source": [
    "import time\n",
    "import sys\n",
    "import os\n",
    "\n",
    "import pandas as pd\n",
    "from collections import defaultdict\n",
    "from difflib import SequenceMatcher"
   ]
  },
  {
   "cell_type": "markdown",
   "metadata": {},
   "source": [
    "### Notebook configuration"
   ]
  },
  {
   "cell_type": "code",
   "execution_count": 5,
   "metadata": {},
   "outputs": [
    {
     "data": {
      "text/plain": [
       "'Mon Jan 29 10:52:17 2018'"
      ]
     },
     "execution_count": 5,
     "metadata": {},
     "output_type": "execute_result"
    }
   ],
   "source": [
    "time.asctime()"
   ]
  },
  {
   "cell_type": "code",
   "execution_count": 6,
   "metadata": {},
   "outputs": [
    {
     "name": "stdout",
     "output_type": "stream",
     "text": [
      "3.4.5 (default, Dec 11 2017, 14:22:24) \n",
      "[GCC 4.8.5 20150623 (Red Hat 4.8.5-16)]\n"
     ]
    }
   ],
   "source": [
    "print(sys.version)"
   ]
  },
  {
   "cell_type": "code",
   "execution_count": 8,
   "metadata": {
    "collapsed": true
   },
   "outputs": [],
   "source": [
    "COMPATH_PATH = os.environ['COMPATH']"
   ]
  },
  {
   "cell_type": "markdown",
   "metadata": {},
   "source": [
    "### Load resources"
   ]
  },
  {
   "cell_type": "code",
   "execution_count": 9,
   "metadata": {},
   "outputs": [],
   "source": [
    "kegg_excel = os.path.join(COMPATH_PATH,'src','compath','static','resources','excel','kegg_gene_sets.csv')\n",
    "reactome_excel = os.path.join(COMPATH_PATH,'src','compath','static','resources','excel','reactome_gene_sets.csv')\n",
    "\n",
    "kegg_dataframe = pd.read_csv(kegg_excel, dtype=object)\n",
    "reactome_dataframe = pd.read_csv(reactome_excel, dtype=object)\n",
    "\n",
    "# Remove the 'Homo sapiens' out of the KEGG pathways\n",
    "kegg_dataframe.columns = [\n",
    "    kegg_pathway.replace(' - Homo sapiens (human)', '')\n",
    "    for kegg_pathway in kegg_dataframe\n",
    "] \n",
    "    \n",
    "kegg_pathways = defaultdict(set)\n",
    "reactome_pathways = defaultdict(set)\n",
    "\n",
    "############################ KEGG ###################################\n",
    "for pathway_name in kegg_dataframe: # 323 pathways KEGG\n",
    "                \n",
    "    for gene in kegg_dataframe[pathway_name].unique():\n",
    "        if not isinstance(gene, str): # There are NaN in the Pandas nArray\n",
    "            continue\n",
    "            \n",
    "        kegg_pathways[pathway_name].add(gene)\n",
    "        \n",
    "############################ Reactome ###################################\n",
    "for pathway_name in reactome_dataframe: # 2162 pathways KEGG\n",
    "                \n",
    "    for gene in reactome_dataframe[pathway_name].unique():\n",
    "        if not isinstance(gene, str): # There are NaN in the Pandas nArray\n",
    "            continue\n",
    "            \n",
    "        reactome_pathways[pathway_name].add(gene)"
   ]
  },
  {
   "cell_type": "code",
   "execution_count": null,
   "metadata": {
    "collapsed": true
   },
   "outputs": [],
   "source": []
  }
 ],
 "metadata": {
  "kernelspec": {
   "display_name": "Python 3",
   "language": "python",
   "name": "python3"
  },
  "language_info": {
   "codemirror_mode": {
    "name": "ipython",
    "version": 3
   },
   "file_extension": ".py",
   "mimetype": "text/x-python",
   "name": "python",
   "nbconvert_exporter": "python",
   "pygments_lexer": "ipython3",
   "version": "3.4.5"
  }
 },
 "nbformat": 4,
 "nbformat_minor": 2
}
